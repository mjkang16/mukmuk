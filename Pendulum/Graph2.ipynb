{
 "cells": [
  {
   "cell_type": "code",
   "execution_count": 1,
   "metadata": {},
   "outputs": [
    {
     "ename": "IOError",
     "evalue": "[Errno 2] No such file or directory: '/home/jolp/Desktop/Data/Walker_E_test_310_seed1'",
     "output_type": "error",
     "traceback": [
      "\u001b[0;31m---------------------------------------------------------------------------\u001b[0m",
      "\u001b[0;31mIOError\u001b[0m                                   Traceback (most recent call last)",
      "\u001b[0;32m<ipython-input-1-d3e1cbcd9b23>\u001b[0m in \u001b[0;36m<module>\u001b[0;34m()\u001b[0m\n\u001b[1;32m      9\u001b[0m \u001b[0mfile_name\u001b[0m \u001b[0;34m=\u001b[0m \u001b[0;34m'Walker_E_test_310_seed'\u001b[0m\u001b[0;34m\u001b[0m\u001b[0m\n\u001b[1;32m     10\u001b[0m \u001b[0;34m\u001b[0m\u001b[0m\n\u001b[0;32m---> 11\u001b[0;31m \u001b[0;32mwith\u001b[0m \u001b[0mopen\u001b[0m\u001b[0;34m(\u001b[0m\u001b[0;34m'/home/jolp/Desktop/Data/'\u001b[0m\u001b[0;34m+\u001b[0m\u001b[0mfile_name\u001b[0m\u001b[0;34m+\u001b[0m\u001b[0;34m'1'\u001b[0m\u001b[0;34m,\u001b[0m \u001b[0;34m'rb'\u001b[0m\u001b[0;34m)\u001b[0m \u001b[0;32mas\u001b[0m \u001b[0mfin1\u001b[0m\u001b[0;34m:\u001b[0m\u001b[0;34m\u001b[0m\u001b[0m\n\u001b[0m\u001b[1;32m     12\u001b[0m     \u001b[0mstep_avg_list_1\u001b[0m \u001b[0;34m=\u001b[0m \u001b[0mpickle\u001b[0m\u001b[0;34m.\u001b[0m\u001b[0mload\u001b[0m\u001b[0;34m(\u001b[0m\u001b[0mfin1\u001b[0m\u001b[0;34m)\u001b[0m\u001b[0;34m\u001b[0m\u001b[0m\n\u001b[1;32m     13\u001b[0m \u001b[0;34m\u001b[0m\u001b[0m\n",
      "\u001b[0;31mIOError\u001b[0m: [Errno 2] No such file or directory: '/home/jolp/Desktop/Data/Walker_E_test_310_seed1'"
     ]
    }
   ],
   "source": [
    "import pickle\n",
    "import matplotlib.pyplot as plt\n",
    "import scipy.stats as stats\n",
    "import numpy as np\n",
    "\n",
    "\n",
    "############################################################################\n",
    "\n",
    "file_name = 'Walker_E_test_310_seed'\n",
    "\n",
    "with open('/home/jolp/Desktop/Data/'+file_name+'1', 'rb') as fin1:\n",
    "    step_avg_list_1 = pickle.load(fin1)\n",
    "\n",
    "with open('/home/jolp/Desktop/Data/'+file_name+'_global_1', 'rb') as fin2:\n",
    "    global_step_list_1 = pickle.load(fin2)\n",
    "\n",
    "\n",
    "print_step_avg_list_1 = []\n",
    "print_step_std_list_1 = []\n",
    "step_num = 2998156\n",
    "step1 = 0\n",
    "for num in range(step_num):\n",
    "    if num == global_step_list_1[step1]:\n",
    "        step1 += 1\n",
    "    \n",
    "    print_step_avg_list_1.append((step_avg_list_1[step1]))\n",
    "############################################################################    \n",
    "\n",
    "x_values = list(range(1, step_num+1))\n",
    "y_1_values = print_step_avg_list_1[:]\n",
    "\n",
    "plt.plot(x_values, y_1_values, c='green')\n",
    "\n",
    "plt.title('Swimmer, batchsize = 64')\n",
    "plt.grid(True)\n",
    "plt.show()"
   ]
  }
 ],
 "metadata": {
  "kernelspec": {
   "display_name": "Python 2",
   "language": "python",
   "name": "python2"
  },
  "language_info": {
   "codemirror_mode": {
    "name": "ipython",
    "version": 2
   },
   "file_extension": ".py",
   "mimetype": "text/x-python",
   "name": "python",
   "nbconvert_exporter": "python",
   "pygments_lexer": "ipython2",
   "version": "2.7.12"
  }
 },
 "nbformat": 4,
 "nbformat_minor": 2
}
