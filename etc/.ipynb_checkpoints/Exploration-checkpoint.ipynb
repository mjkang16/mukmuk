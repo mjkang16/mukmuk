{
 "cells": [
  {
   "cell_type": "code",
   "execution_count": null,
   "metadata": {},
   "outputs": [],
   "source": [
    "import numpy as np\n",
    "\n",
    "def softmax(x, scale = 1):\n",
    "    x = np.array(x)/scale\n",
    "    max_x = np.max(x)\n",
    "    e_x = np.exp(x - max_x)\n",
    "    p = e_x/e_x.sum()\n",
    "    p = p/p.sum()\n",
    "\n",
    "    return p\n",
    "\n",
    "\n",
    "def sparsetau(x):\n",
    "    x = np.array(x)\n",
    "    sorted_x = np.sort(x)[::-1]\n",
    "    S = np.array([])\n",
    "    for i in range(0,len(x)):\n",
    "        if 1+(i+1)*sorted_x[i]>=(sorted_x[0:(i+1)]).sum():\n",
    "            S = np.append(S,sorted_x[i])\n",
    "    tau = (S.sum() - 1)/S.size\n",
    "    return tau, S\n",
    "\n",
    "def sparsedist(x, scale = 1):\n",
    "    x = np.array(x/scale)\n",
    "    tau, _ = sparsetau(x)\n",
    "    p = x - tau\n",
    "    p[p<0] = 0\n",
    "    if p.sum() > 0.0:\n",
    "        p = p/p.sum()\n",
    "    else:\n",
    "        p = np.ones_like(x)/x.shape[0];\n",
    "    return p\n",
    "\n",
    "def sparsemax(x,scale = 1):\n",
    "    x = np.array(x/scale)\n",
    "    tau, S = sparsetau(x)\n",
    "    spmax_x = 0.5*(S**2 - tau**2).sum() + 0.5\n",
    "    spmax_x = scale*spmax_x\n",
    "    return spmax_x"
   ]
  }
 ],
 "metadata": {
  "kernelspec": {
   "display_name": "Python 2",
   "language": "python",
   "name": "python2"
  },
  "language_info": {
   "codemirror_mode": {
    "name": "ipython",
    "version": 2
   },
   "file_extension": ".py",
   "mimetype": "text/x-python",
   "name": "python",
   "nbconvert_exporter": "python",
   "pygments_lexer": "ipython2",
   "version": "2.7.12"
  }
 },
 "nbformat": 4,
 "nbformat_minor": 2
}
