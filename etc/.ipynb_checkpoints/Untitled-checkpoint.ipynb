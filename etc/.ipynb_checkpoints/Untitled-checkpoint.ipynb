{
 "cells": [
  {
   "cell_type": "code",
   "execution_count": 45,
   "metadata": {},
   "outputs": [],
   "source": [
    "import numpy as np\n",
    "import tensorflow as tf\n",
    "import random\n",
    "from collections import deque\n",
    "import gym"
   ]
  },
  {
   "cell_type": "code",
   "execution_count": 46,
   "metadata": {},
   "outputs": [
    {
     "name": "stdout",
     "output_type": "stream",
     "text": [
      "[[14]]\n",
      "[[13 14 15]]\n",
      "[[1]\n",
      " [2]\n",
      " [3]]\n",
      "1\n",
      "2\n",
      "[[ 2]\n",
      " [ 5]\n",
      " [ 8]\n",
      " [11]]\n"
     ]
    }
   ],
   "source": [
    "X = [[1, 2, 3]]\n",
    "Y = [[1], [2], [3]]\n",
    "\n",
    "sess = tf.Session()\n",
    "Z = tf.matmul(X, Y)\n",
    "sess.run(Z)\n",
    "print (sess.run(Z))\n",
    "\n",
    "W = Z + X - tf.reduce_mean(X,reduction_indices=1,keep_dims=True)\n",
    "print (sess.run(W))\n",
    "\n",
    "K = tf.reduce_mean(Y,reduction_indices=1,keep_dims=True)\n",
    "print (sess.run(K))\n",
    "\n",
    "\n",
    "for x in range(1, 3):\n",
    "    print(x)\n",
    "\n",
    "H = np.zeros([4, 3], dtype=np.uint8)\n",
    "H[0, 0] = 1\n",
    "H[0, 1] = 2\n",
    "H[0, 2] = 3\n",
    "H[1, 0] = 4\n",
    "H[1, 1] = 5\n",
    "H[1, 2] = 6\n",
    "H[2, 0] = 7\n",
    "H[2, 1] = 8\n",
    "H[2, 2] = 9\n",
    "H[3, 0] = 10\n",
    "H[3, 1] = 11\n",
    "H[3, 2] = 12\n",
    "\n",
    "print(H[:, 1:2])"
   ]
  }
 ],
 "metadata": {
  "kernelspec": {
   "display_name": "Python 2",
   "language": "python",
   "name": "python2"
  },
  "language_info": {
   "codemirror_mode": {
    "name": "ipython",
    "version": 2
   },
   "file_extension": ".py",
   "mimetype": "text/x-python",
   "name": "python",
   "nbconvert_exporter": "python",
   "pygments_lexer": "ipython2",
   "version": "2.7.12"
  }
 },
 "nbformat": 4,
 "nbformat_minor": 2
}
