{
 "cells": [
  {
   "cell_type": "code",
   "execution_count": null,
   "metadata": {},
   "outputs": [],
   "source": [
    "import pickle\n",
    "import matplotlib.pyplot as plt\n",
    "import scipy.stats as stats\n",
    "import numpy as np\n",
    "\n",
    "\n",
    "############################################################################\n",
    "\n",
    "file_name = 'InvertedPendulum_Epsilon_batch512_seed'\n",
    "\n",
    "with open('/home/jolp/Desktop/Data/'+file_name+'1', 'rb') as fin1:\n",
    "    step_avg_list_1 = pickle.load(fin1)\n",
    "\n",
    "with open('/home/jolp/Desktop/Data/'+file_name+'_global_1', 'rb') as fin2:\n",
    "    global_step_list_1 = pickle.load(fin2)\n",
    "\n",
    "\n",
    "print_step_avg_list_1 = []\n",
    "print_step_std_list_1 = []\n",
    "step_num = 110000\n",
    "step1 = step2 = step3 = 0\n",
    "for num in range(step_num):\n",
    "    if num == global_step_list_1[step1]:\n",
    "        step1 += 1\n",
    "    \n",
    "    print_step_avg_list_1.append((step_avg_list_1[step1]))\n",
    "############################################################################    \n",
    "\n",
    "x_values = list(range(1, step_num+1))\n",
    "y_1_values = print_step_avg_list_1[:]\n",
    "\n",
    "plt.plot(x_values, y_1_values, c='green')\n",
    "\n",
    "\n",
    "plt.title('HalfCheetah, batchsize = 32, 64, 128')\n",
    "plt.grid(True)\n",
    "plt.show()"
   ]
  }
 ],
 "metadata": {
  "kernelspec": {
   "display_name": "Python 2",
   "language": "python",
   "name": "python2"
  },
  "language_info": {
   "codemirror_mode": {
    "name": "ipython",
    "version": 2
   },
   "file_extension": ".py",
   "mimetype": "text/x-python",
   "name": "python",
   "nbconvert_exporter": "python",
   "pygments_lexer": "ipython2",
   "version": "2.7.12"
  }
 },
 "nbformat": 4,
 "nbformat_minor": 2
}
