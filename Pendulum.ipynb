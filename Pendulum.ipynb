{
 "cells": [
  {
   "cell_type": "code",
   "execution_count": 1,
   "metadata": {},
   "outputs": [],
   "source": [
    "import tensorflow as tf\n",
    "from Strategy import RL"
   ]
  },
  {
   "cell_type": "code",
   "execution_count": 2,
   "metadata": {},
   "outputs": [
    {
     "name": "stderr",
     "output_type": "stream",
     "text": [
      "[2018-02-21 15:18:20,722] Making new env: Pendulum-v0\n"
     ]
    },
    {
     "name": "stdout",
     "output_type": "stream",
     "text": [
      "WARNING:tensorflow:From /usr/local/lib/python2.7/dist-packages/tensorflow/python/util/tf_should_use.py:107: initialize_all_variables (from tensorflow.python.ops.variables) is deprecated and will be removed after 2017-03-02.\n",
      "Instructions for updating:\n",
      "Use `tf.global_variables_initializer` instead.\n"
     ]
    },
    {
     "name": "stderr",
     "output_type": "stream",
     "text": [
      "[2018-02-21 15:18:21,507] From /usr/local/lib/python2.7/dist-packages/tensorflow/python/util/tf_should_use.py:107: initialize_all_variables (from tensorflow.python.ops.variables) is deprecated and will be removed after 2017-03-02.\n",
      "Instructions for updating:\n",
      "Use `tf.global_variables_initializer` instead.\n"
     ]
    },
    {
     "name": "stdout",
     "output_type": "stream",
     "text": [
      "\n",
      "CASE 1\n",
      "  Exp : softmax\n",
      "  Strategy : Double : True, Dueling : True, Prioritized : True\n",
      "1           -1667.50396067\n",
      "2           -1355.06827824\n",
      "3           -1318.00969302\n",
      "4           -1281.68111528\n",
      "5           -1321.40720478\n",
      "6           -1304.12406382\n",
      "7           -1270.81909576\n",
      "8           -1247.85766172\n",
      "9           -1220.24332596\n",
      "10           -1234.41507302\n",
      "11           -1219.59339164\n",
      "12           -1191.80927422\n",
      "13           -1191.83493291\n",
      "14           -1197.34733376\n",
      "15           -1179.58627181\n",
      "16           -1174.0426833\n",
      "17           -1156.83881615\n",
      "18           -1149.35428003\n",
      "19           -1161.3571308\n",
      "20           -1148.25154345\n",
      "21           -1142.16654127\n",
      "22           -1140.41056716\n",
      "23           -1141.71736228\n",
      "24           -1134.34199613\n",
      "25           -1130.50839072\n",
      "26           -1129.01979809\n",
      "27           -1129.58663403\n",
      "28           -1127.25230963\n",
      "29           -1128.88456402\n",
      "30           -1133.24441195\n",
      "31           -1131.17658939\n",
      "32           -1133.358715\n",
      "33           -1128.45668189\n",
      "34           -1126.71224823\n",
      "35           -1125.61097451\n",
      "36           -1129.96388554\n",
      "37           -1141.44585134\n",
      "38           -1138.11286988\n",
      "39           -1134.4368452\n",
      "40           -1131.18567278\n",
      "41           -1129.83564341\n",
      "42           -1132.53063124\n",
      "43           -1129.1188711\n",
      "44           -1120.91334866\n",
      "45           -1120.49518709\n",
      "46           -1120.57552146\n",
      "47           -1115.44915683\n",
      "48           -1115.02363775\n",
      "49           -1114.43941989\n",
      "50           -1111.13037504\n",
      "51           -1113.34965611\n",
      "52           -1112.62380789\n",
      "53           -1112.10449115\n",
      "54           -1112.55280598\n",
      "55           -1113.64542018\n",
      "56           -1106.90536904\n",
      "57           -1098.58562322\n",
      "58           -1096.70236285\n",
      "59           -1095.72116516\n",
      "60           -1089.87062376\n",
      "61           -1091.69213863\n",
      "62           -1088.4485765\n",
      "63           -1086.42765332\n",
      "64           -1086.5338358\n",
      "65           -1081.7409703\n",
      "66           -1078.19881417\n",
      "67           -1074.42755688\n",
      "68           -1077.47834625\n",
      "69           -1078.04722699\n",
      "70           -1077.40096085\n",
      "71           -1074.70540545\n",
      "72           -1074.44651907\n",
      "73           -1072.84522769\n",
      "74           -1072.86515812\n",
      "75           -1071.60661882\n",
      "76           -1067.52313927\n",
      "77           -1069.56836859\n",
      "78           -1065.78785273\n",
      "79           -1066.3705897\n",
      "80           -1064.37635747\n",
      "81           -1066.3664697\n",
      "82           -1063.97579195\n",
      "83           -1065.55850619\n",
      "84           -1063.40170316\n",
      "85           -1062.30173031\n",
      "86           -1061.21554886\n",
      "87           -1062.07925958\n",
      "88           -1062.82066808\n",
      "89           -1060.38096827\n",
      "90           -1059.50045078\n",
      "91           -1057.65981521\n",
      "92           -1056.77533073\n",
      "93           -1055.90661326\n",
      "94           -1055.67750298\n",
      "95           -1054.01031254\n",
      "96           -1056.81631634\n",
      "97           -1056.06085985\n",
      "98           -1055.67956668\n",
      "99           -1055.04801864\n"
     ]
    },
    {
     "ename": "KeyboardInterrupt",
     "evalue": "",
     "output_type": "error",
     "traceback": [
      "\u001b[0;31m---------------------------------------------------------------------------\u001b[0m",
      "\u001b[0;31mKeyboardInterrupt\u001b[0m                         Traceback (most recent call last)",
      "\u001b[0;32m<ipython-input-2-c0abc6324354>\u001b[0m in \u001b[0;36m<module>\u001b[0;34m()\u001b[0m\n\u001b[1;32m     18\u001b[0m     \u001b[0;32mfor\u001b[0m \u001b[0mi\u001b[0m \u001b[0;32min\u001b[0m \u001b[0mrange\u001b[0m\u001b[0;34m(\u001b[0m\u001b[0mcase_num\u001b[0m\u001b[0;34m)\u001b[0m\u001b[0;34m:\u001b[0m\u001b[0;34m\u001b[0m\u001b[0m\n\u001b[1;32m     19\u001b[0m         CartPole.run_RL(case_n = i+1, Exp = Exp_list[i], seed_n = 0,\n\u001b[0;32m---> 20\u001b[0;31m                        Double = Double_list[i], Dueling = Dueling_list[i], Prioritized = Prioritized_list[i])\n\u001b[0m\u001b[1;32m     21\u001b[0m \u001b[0;34m\u001b[0m\u001b[0m\n",
      "\u001b[0;32m/home/minjae/Reinforcement Learning/Strategy.py\u001b[0m in \u001b[0;36mrun_RL\u001b[0;34m(self, case_n, Exp, seed_n, Double, Dueling, Prioritized)\u001b[0m\n\u001b[1;32m    276\u001b[0m                         \u001b[0mcheck\u001b[0m \u001b[0;34m=\u001b[0m \u001b[0mTrue\u001b[0m\u001b[0;34m\u001b[0m\u001b[0m\n\u001b[1;32m    277\u001b[0m                         \u001b[0;32mwhile\u001b[0m \u001b[0mcheck\u001b[0m\u001b[0;34m:\u001b[0m\u001b[0;34m\u001b[0m\u001b[0m\n\u001b[0;32m--> 278\u001b[0;31m                             \u001b[0mTD_choice\u001b[0m \u001b[0;34m=\u001b[0m \u001b[0mnp\u001b[0m\u001b[0;34m.\u001b[0m\u001b[0mrandom\u001b[0m\u001b[0;34m.\u001b[0m\u001b[0mchoice\u001b[0m\u001b[0;34m(\u001b[0m\u001b[0mlen\u001b[0m\u001b[0;34m(\u001b[0m\u001b[0mTD_norm_list\u001b[0m\u001b[0;34m)\u001b[0m\u001b[0;34m,\u001b[0m\u001b[0msize\u001b[0m\u001b[0;34m=\u001b[0m\u001b[0;36m1\u001b[0m\u001b[0;34m,\u001b[0m\u001b[0mp\u001b[0m \u001b[0;34m=\u001b[0m \u001b[0mTD_norm_list\u001b[0m\u001b[0;34m)\u001b[0m\u001b[0;34m\u001b[0m\u001b[0m\n\u001b[0m\u001b[1;32m    279\u001b[0m                             \u001b[0mTD_index\u001b[0m \u001b[0;34m=\u001b[0m \u001b[0mTD_choice\u001b[0m\u001b[0;34m[\u001b[0m\u001b[0;36m0\u001b[0m\u001b[0;34m]\u001b[0m\u001b[0;34m\u001b[0m\u001b[0m\n\u001b[1;32m    280\u001b[0m                             \u001b[0;32mif\u001b[0m \u001b[0mTDT\u001b[0m\u001b[0;34m[\u001b[0m\u001b[0mTD_index\u001b[0m\u001b[0;34m]\u001b[0m \u001b[0;34m==\u001b[0m \u001b[0;36m0\u001b[0m\u001b[0;34m:\u001b[0m\u001b[0;34m\u001b[0m\u001b[0m\n",
      "\u001b[0;32mmtrand.pyx\u001b[0m in \u001b[0;36mmtrand.RandomState.choice\u001b[0;34m()\u001b[0m\n",
      "\u001b[0;32m/usr/local/lib/python2.7/dist-packages/numpy/core/fromnumeric.pyc\u001b[0m in \u001b[0;36mprod\u001b[0;34m(a, axis, dtype, out, keepdims)\u001b[0m\n\u001b[1;32m   2454\u001b[0m \u001b[0;34m\u001b[0m\u001b[0m\n\u001b[1;32m   2455\u001b[0m \u001b[0;34m\u001b[0m\u001b[0m\n\u001b[0;32m-> 2456\u001b[0;31m \u001b[0;32mdef\u001b[0m \u001b[0mprod\u001b[0m\u001b[0;34m(\u001b[0m\u001b[0ma\u001b[0m\u001b[0;34m,\u001b[0m \u001b[0maxis\u001b[0m\u001b[0;34m=\u001b[0m\u001b[0mNone\u001b[0m\u001b[0;34m,\u001b[0m \u001b[0mdtype\u001b[0m\u001b[0;34m=\u001b[0m\u001b[0mNone\u001b[0m\u001b[0;34m,\u001b[0m \u001b[0mout\u001b[0m\u001b[0;34m=\u001b[0m\u001b[0mNone\u001b[0m\u001b[0;34m,\u001b[0m \u001b[0mkeepdims\u001b[0m\u001b[0;34m=\u001b[0m\u001b[0mnp\u001b[0m\u001b[0;34m.\u001b[0m\u001b[0m_NoValue\u001b[0m\u001b[0;34m)\u001b[0m\u001b[0;34m:\u001b[0m\u001b[0;34m\u001b[0m\u001b[0m\n\u001b[0m\u001b[1;32m   2457\u001b[0m     \"\"\"\n\u001b[1;32m   2458\u001b[0m     \u001b[0mReturn\u001b[0m \u001b[0mthe\u001b[0m \u001b[0mproduct\u001b[0m \u001b[0mof\u001b[0m \u001b[0marray\u001b[0m \u001b[0melements\u001b[0m \u001b[0mover\u001b[0m \u001b[0ma\u001b[0m \u001b[0mgiven\u001b[0m \u001b[0maxis\u001b[0m\u001b[0;34m.\u001b[0m\u001b[0;34m\u001b[0m\u001b[0m\n",
      "\u001b[0;31mKeyboardInterrupt\u001b[0m: "
     ]
    }
   ],
   "source": [
    "case_num = 3\n",
    "# 1 : epsilon , 2 : softmax , 3 : sparsemax , 4 : sparse+eps\n",
    "Exp_list = ['softmax', 'epsilon', 'softmax']\n",
    "Double_list = [True, True, False]\n",
    "Dueling_list = [True, True, True]\n",
    "Prioritized_list = [True, True, True]\n",
    "action_res_list = [16, 16]\n",
    "\n",
    "with tf.Session() as sess :\n",
    "    #for i in range(case_num):    \n",
    "    CartPole = RL(sess, dis = 0.99, REPLAY_MEMORY = 10000, batch_size = 32, max_episodes = 1000,\n",
    "                      training_step = 1, copy_step = 4, action_res = 16,\n",
    "                      layer_size = 128, learning_rate = 0.005,\n",
    "                      alpha = 0.6, beta_init = 0.4, eps = 0.01, eps_div = 2,\n",
    "                      ending_cond_epis = 100, ending_cond_reward = -140, reward_p = 100, reward_n = -100,\n",
    "                      Game = 'Pendulum-v0')\n",
    "    \n",
    "    for i in range(case_num):\n",
    "        CartPole.run_RL(case_n = i+1, Exp = Exp_list[i], seed_n = 0,\n",
    "                       Double = Double_list[i], Dueling = Dueling_list[i], Prioritized = Prioritized_list[i])\n",
    "    "
   ]
  }
 ],
 "metadata": {
  "kernelspec": {
   "display_name": "Python 2",
   "language": "python",
   "name": "python2"
  },
  "language_info": {
   "codemirror_mode": {
    "name": "ipython",
    "version": 2
   },
   "file_extension": ".py",
   "mimetype": "text/x-python",
   "name": "python",
   "nbconvert_exporter": "python",
   "pygments_lexer": "ipython2",
   "version": "2.7.12"
  }
 },
 "nbformat": 4,
 "nbformat_minor": 2
}
